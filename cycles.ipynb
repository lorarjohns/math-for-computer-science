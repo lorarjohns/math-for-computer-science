{
 "cells": [
  {
   "cell_type": "code",
   "execution_count": 2,
   "metadata": {},
   "outputs": [],
   "source": [
    "seq = [0,3,2,4,5,6,7,1,9,8] \n",
    "seq = [11, 9, 8, 2, 5, 1, 12, 14, 6, 7, 3, 13, 10, 4]"
   ]
  },
  {
   "cell_type": "code",
   "execution_count": 5,
   "metadata": {},
   "outputs": [],
   "source": [
    "pi = {i+1: e for i, e in enumerate(seq)}"
   ]
  },
  {
   "cell_type": "code",
   "execution_count": 1,
   "metadata": {},
   "outputs": [
    {
     "output_type": "stream",
     "name": "stdout",
     "text": "A cycle of length 9 in S-14\n"
    },
    {
     "output_type": "error",
     "ename": "NameError",
     "evalue": "name 'pi' is not defined",
     "traceback": [
      "\u001b[0;31m---------------------------------------------------------------------------\u001b[0m",
      "\u001b[0;31mNameError\u001b[0m                                 Traceback (most recent call last)",
      "\u001b[0;32m<ipython-input-1-9c6819e332a0>\u001b[0m in \u001b[0;36m<module>\u001b[0;34m\u001b[0m\n\u001b[1;32m     19\u001b[0m         \u001b[0mprint\u001b[0m\u001b[0;34m(\u001b[0m\u001b[0;34m'odd: '\u001b[0m\u001b[0;34m,\u001b[0m \u001b[0mcount\u001b[0m\u001b[0;34m)\u001b[0m\u001b[0;34m\u001b[0m\u001b[0;34m\u001b[0m\u001b[0m\n\u001b[1;32m     20\u001b[0m     \u001b[0;32mreturn\u001b[0m \u001b[0mseen\u001b[0m\u001b[0;34m\u001b[0m\u001b[0;34m\u001b[0m\u001b[0m\n\u001b[0;32m---> 21\u001b[0;31m \u001b[0mseen\u001b[0m \u001b[0;34m=\u001b[0m \u001b[0mget_cycles\u001b[0m\u001b[0;34m(\u001b[0m\u001b[0mpi\u001b[0m\u001b[0;34m)\u001b[0m\u001b[0;34m\u001b[0m\u001b[0;34m\u001b[0m\u001b[0m\n\u001b[0m\u001b[1;32m     22\u001b[0m \u001b[0mdisjoint_elems\u001b[0m \u001b[0;34m=\u001b[0m \u001b[0mset\u001b[0m\u001b[0;34m(\u001b[0m\u001b[0mpi\u001b[0m\u001b[0;34m.\u001b[0m\u001b[0mvalues\u001b[0m\u001b[0;34m(\u001b[0m\u001b[0;34m)\u001b[0m\u001b[0;34m)\u001b[0m\u001b[0;34m.\u001b[0m\u001b[0mdifference\u001b[0m\u001b[0;34m(\u001b[0m\u001b[0mseen\u001b[0m\u001b[0;34m)\u001b[0m\u001b[0;34m\u001b[0m\u001b[0;34m\u001b[0m\u001b[0m\n\u001b[1;32m     23\u001b[0m \u001b[0mdisjoint_cycles\u001b[0m \u001b[0;34m=\u001b[0m \u001b[0;34m{\u001b[0m\u001b[0mi\u001b[0m\u001b[0;34m:\u001b[0m \u001b[0me\u001b[0m \u001b[0;32mfor\u001b[0m \u001b[0mi\u001b[0m\u001b[0;34m,\u001b[0m \u001b[0me\u001b[0m \u001b[0;32min\u001b[0m \u001b[0menumerate\u001b[0m\u001b[0;34m(\u001b[0m\u001b[0mdisjoint_elems\u001b[0m\u001b[0;34m,\u001b[0m \u001b[0mstart\u001b[0m\u001b[0;34m=\u001b[0m\u001b[0mmin\u001b[0m\u001b[0;34m(\u001b[0m\u001b[0mdisjoint_elems\u001b[0m\u001b[0;34m)\u001b[0m\u001b[0;34m)\u001b[0m\u001b[0;34m}\u001b[0m\u001b[0;34m\u001b[0m\u001b[0;34m\u001b[0m\u001b[0m\n",
      "\u001b[0;31mNameError\u001b[0m: name 'pi' is not defined"
     ]
    }
   ],
   "source": [
    "\n",
    "    return seen\n",
    "seen = get_cycles(pi)\n",
    "disjoint_elems = set(pi.values()).difference(seen)\n",
    "disjoint_cycles = {i: e for i, e in enumerate(disjoint_elems, start=min(disjoint_elems))}"
   ]
  },
  {
   "cell_type": "code",
   "execution_count": 27,
   "metadata": {},
   "outputs": [
    {
     "output_type": "stream",
     "name": "stdout",
     "text": "{1, 2, 3, 4, 6, 8, 9, 11, 14}\n"
    }
   ],
   "source": [
    "print(seen)"
   ]
  },
  {
   "cell_type": "markdown",
   "metadata": {},
   "source": [
    "A permutation is a product of disjoint cycles\n",
    "\n",
    "$$\n",
    "\n",
    "π = \\Bigg(\\dfrac{{1}\\ {2}\\ {3}\\ {4}\\ {5}\\ {6}\\ {7}\\ {8}\\ {9}\\ {10}\\ {11}\\ {12}\\ {13}\\ {14}}\n",
    "{11\\ 9\\ 8\\ 2\\ 5\\ 1\\ 12\\ 14\\ 6\\ 7\\ 3\\ 13\\ 10\\ 4}\\Bigg)\n",
    "$$\n",
    "\n",
    "Starting at $1$, after $k$ applications of $\\pi$ we end up back at $1$. So the permutation $pi$ produces the _cycle_ $$1 \\rightarrow a_1 \\rightarrow a_2 \\rightarrow \\ldots \\rightarrow a_{k-1} \\rightarrow,$$ where each element is distinct.\n",
    "\n",
    "In the above example, the cycle starting with 1 is\n",
    "\n",
    "$$ (1\\ 11\\ 3\\ 8\\ 14\\ 4\\ 2\\ 9\\ 6).$$\n",
    "\n",
    "This cycle of length 9 in $S_{14}$ is the _orbit_ of 1 under $\\pi$."
   ]
  },
  {
   "cell_type": "code",
   "execution_count": 13,
   "metadata": {},
   "outputs": [
    {
     "output_type": "stream",
     "name": "stdout",
     "text": "The permutation pi:\n\n1 >> 11\n\n2 >> 9\n\n3 >> 8\n\n4 >> 2\n\n5 >> 5\n\n6 >> 1\n\n7 >> 12\n\n8 >> 14\n\n9 >> 6\n\n10 >> 7\n\n11 >> 3\n\n12 >> 13\n\n13 >> 10\n\n14 >> 4\n"
    }
   ],
   "source": [
    "seq = [11, 9, 8, 2, 5, 1, 12, 14, 6, 7, 3, 13, 10, 4]\n",
    "pi = {i+1: e for i, e in enumerate(seq)}\n",
    "print(\"The permutation pi:\")\n",
    "print(\"\\n\".join(map(lambda x: f\"\\n{x[0]} >> {x[1]}\", pi.items())))"
   ]
  },
  {
   "cell_type": "code",
   "execution_count": 16,
   "metadata": {},
   "outputs": [
    {
     "output_type": "stream",
     "name": "stdout",
     "text": "A cycle of length 9 in S-14\n1 >> 11\n11 >> 3\n3 >> 8\n8 >> 14\n14 >> 4\n4 >> 2\n2 >> 9\n9 >> 6\n6 >> 1\n"
    }
   ],
   "source": [
    "print(\"A cycle of length 9 in S-14\")\n",
    "def get_cycles(pi, start):\n",
    "\n",
    "    start = start\n",
    "    next_ = pi.get(start)\n",
    "    print(f\"{start} >> {next_}\")\n",
    "    count = 1\n",
    "    seen = set()\n",
    "    seen.add(next_)\n",
    "\n",
    "    while next_ != start:\n",
    "        count += 1\n",
    "        tmp = next_\n",
    "        next_ = pi.get(next_)\n",
    "        seen.add(next_)\n",
    "        print(f\"{tmp} >> {next_}\")\n",
    "    # if count % 2 == 0: \n",
    "    #     print('even', count)\n",
    "    # else:\n",
    "    #     print('odd: ', count)\n",
    "get_cycles(pi, 1)"
   ]
  },
  {
   "cell_type": "markdown",
   "metadata": {},
   "source": []
  }
 ],
 "metadata": {
  "language_info": {
   "codemirror_mode": {
    "name": "ipython",
    "version": 3
   },
   "file_extension": ".py",
   "mimetype": "text/x-python",
   "name": "python",
   "nbconvert_exporter": "python",
   "pygments_lexer": "ipython3",
   "version": "3.6.8-final"
  },
  "orig_nbformat": 2,
  "kernelspec": {
   "name": "python36864bitvenvscivenv55fc700d3ea9447888c06400e9b2b088",
   "display_name": "Python 3.6.8 64-bit ('venv-sci': venv)"
  }
 },
 "nbformat": 4,
 "nbformat_minor": 2
}