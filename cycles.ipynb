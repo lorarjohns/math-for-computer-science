{
 "cells": [
  {
   "cell_type": "code",
   "execution_count": 285,
   "metadata": {},
   "outputs": [],
   "source": [
    "from collections_extended import bijection, IndexedDict\n",
    "seq = [0,3,2,4,5,6,7,1,9,8] "
   ]
  },
  {
   "cell_type": "markdown",
   "metadata": {},
   "source": [
    "A permutation is a product of disjoint cycles\n",
    "\n",
    "$$\n",
    "\n",
    "π = \\Bigg(\\dfrac{{1}\\ {2}\\ {3}\\ {4}\\ {5}\\ {6}\\ {7}\\ {8}\\ {9}\\ {10}\\ {11}\\ {12}\\ {13}\\ {14}}\n",
    "{11\\ 9\\ 8\\ 2\\ 5\\ 1\\ 12\\ 14\\ 6\\ 7\\ 3\\ 13\\ 10\\ 4}\\Bigg)\n",
    "$$\n",
    "\n",
    "Starting at $1$, after $k$ applications of $\\pi$ we end up back at $1$. So the permutation $pi$ produces the _cycle_ $$1 \\rightarrow a_1 \\rightarrow a_2 \\rightarrow \\ldots \\rightarrow a_{k-1} \\rightarrow,$$ where each element is distinct.\n",
    "\n",
    "In the above example, the cycle starting with 1 is\n",
    "\n",
    "$$ (1\\ 11\\ 3\\ 8\\ 14\\ 4\\ 2\\ 9\\ 6).$$\n",
    "\n",
    "This cycle of length 9 in $S_{14}$ is the _orbit_ of 1 under $\\pi$."
   ]
  },
  {
   "cell_type": "code",
   "execution_count": 13,
   "metadata": {},
   "outputs": [
    {
     "output_type": "stream",
     "name": "stdout",
     "text": "The permutation pi:\n\n1 >> 11\n\n2 >> 9\n\n3 >> 8\n\n4 >> 2\n\n5 >> 5\n\n6 >> 1\n\n7 >> 12\n\n8 >> 14\n\n9 >> 6\n\n10 >> 7\n\n11 >> 3\n\n12 >> 13\n\n13 >> 10\n\n14 >> 4\n"
    }
   ],
   "source": [
    "seq = [11, 9, 8, 2, 5, 1, 12, 14, 6, 7, 3, 13, 10, 4]\n",
    "pi = {i+1: e for i, e in enumerate(seq)}\n",
    "print(\"The permutation pi:\")\n",
    "print(\"\\n\".join(map(lambda x: f\"\\n{x[0]} >> {x[1]}\", pi.items())))"
   ]
  },
  {
   "cell_type": "code",
   "execution_count": 71,
   "metadata": {},
   "outputs": [
    {
     "output_type": "stream",
     "name": "stdout",
     "text": "A cycle of length 9 in S-14\n1 >> 11\n11 >> 3\n3 >> 8\n8 >> 14\n14 >> 4\n4 >> 2\n2 >> 9\n9 >> 6\n6 >> 1\n"
    }
   ],
   "source": [
    "print(\"A cycle of length 9 in S-14\")\n",
    "def get_cycles(permutation, start):\n",
    "\n",
    "    start = start\n",
    "    next_ = permutation.get(start)\n",
    "    print(f\"{start} >> {next_}\")\n",
    "    count = 1\n",
    "    seen = set()\n",
    "    seen.add(next_)\n",
    "\n",
    "    while next_ != start:\n",
    "        count += 1\n",
    "        tmp = next_\n",
    "        next_ = permutation.get(next_)\n",
    "        seen.add(next_)\n",
    "        print(f\"{tmp} >> {next_}\")\n",
    "    return seen\n",
    "    # if count % 2 == 0: \n",
    "    #     print('even', count)\n",
    "    # else:\n",
    "    #     print('odd: ', count)\n",
    "first_cycle = get_cycles(pi, 1)"
   ]
  },
  {
   "cell_type": "markdown",
   "metadata": {},
   "source": [
    "We can write $\\pi$ as a product or composition of disjoint cycles like these in $S_{14}$.\n",
    "\n",
    "First, we find the least element of the set not involved in the first cycle."
   ]
  },
  {
   "cell_type": "code",
   "execution_count": 72,
   "metadata": {},
   "outputs": [
    {
     "output_type": "execute_result",
     "data": {
      "text/plain": "5"
     },
     "metadata": {},
     "execution_count": 72
    }
   ],
   "source": [
    "disjoint_elems = set(pi.values()).difference(first_cycle)\n",
    "min(disjoint_elems)"
   ]
  },
  {
   "cell_type": "code",
   "execution_count": 74,
   "metadata": {},
   "outputs": [
    {
     "output_type": "stream",
     "name": "stdout",
     "text": "5 >> 5\n"
    },
    {
     "output_type": "execute_result",
     "data": {
      "text/plain": "{5}"
     },
     "metadata": {},
     "execution_count": 74
    }
   ],
   "source": [
    "second_cycle = get_cycles(pi, 5)\n",
    "second_cycle"
   ]
  },
  {
   "cell_type": "markdown",
   "metadata": {},
   "source": [
    "Under repeated application of the permutation, $$ 5 \\rightarrow 5$$ It is fixed by $\\pi$ with a cycle of length 1.\n",
    "\n",
    "The next orbit is seven's:\n",
    "$$ 7 \\rightarrow 12 \\rightarrow 13 \\rightarrow 10$\n",
    "\n",
    "The cycle $(7\\ 12\\ 13\\ 10)$ has length 4 and does not intersect with the previous cycles."
   ]
  },
  {
   "cell_type": "code",
   "execution_count": 79,
   "metadata": {},
   "outputs": [
    {
     "output_type": "execute_result",
     "data": {
      "text/plain": "7"
     },
     "metadata": {},
     "execution_count": 79
    }
   ],
   "source": [
    "disjoint_elems = disjoint_elems.difference(second_cycle)\n",
    "min(disjoint_elems)"
   ]
  },
  {
   "cell_type": "code",
   "execution_count": 84,
   "metadata": {},
   "outputs": [
    {
     "output_type": "stream",
     "name": "stdout",
     "text": "7 >> 12\n12 >> 13\n13 >> 10\n10 >> 7\n"
    }
   ],
   "source": [
    "third_cycle = get_cycles(pi, 7)\n",
    "disjoint_elems = disjoint_elems.difference(third_cycle)"
   ]
  },
  {
   "cell_type": "markdown",
   "metadata": {},
   "source": [
    "These cycles account for all the members of $S_{14}$. Therefore we can write $\\pi$ as the composition of these three disjoint cycles:\n",
    "\n",
    "$$ \\pi = \\big(1\\ 11\\ 3\\ 8\\ 14\\ 4\\ 2\\ 9\\ 6\\big)\\big(7\\ 12\\ 13\\ 10)$$\n",
    "\n",
    "Usually $(5)$ gets left out of this notation because it is a fixed element. But we can also write $\\pi$ as a partition of $S_{14}$:\n",
    "\n",
    "$$ \\{\\{1,2,3,4,6,8,9,11,14\\},\\{5\\},\\{7,10,12,13\\}\\} $$\n",
    "\n",
    "If two elements belong to the same orbit, then some power of $\\pi$ takes one of them to the other."
   ]
  },
  {
   "cell_type": "code",
   "execution_count": 86,
   "metadata": {},
   "outputs": [],
   "source": [
    "assert disjoint_elems == set()"
   ]
  },
  {
   "cell_type": "markdown",
   "metadata": {},
   "source": [
    "We have seen that a cycle that maps an element to itself is the simplest orbit. The next simplest is a _transposition_: a reflexive cycle of length 2.\n",
    "\n",
    "Every element of $S_n$ can be expressed as a composition of transpositions. So\n",
    "\n",
    "$$ (7\\ 12\\ 13\\ 10) $$\n",
    "\n",
    "is equivalent to\n",
    "\n",
    "$$ (7\\ 10)(7\\ 13)(7\\ 12).$$\n",
    "\n",
    "Because the cycle is reflexive, whichever element is chosen as the first member of the ordered pair in each transposition ensures that the product of all the cycles yields the original one, and also that the decomposition of cycles into a product of transpositions is not unique."
   ]
  },
  {
   "cell_type": "code",
   "execution_count": 217,
   "metadata": {},
   "outputs": [],
   "source": [
    "seq = [7,12,13,10]\n",
    "product = [(7,10), (7,13), (7,12)]"
   ]
  },
  {
   "cell_type": "code",
   "execution_count": 280,
   "metadata": {},
   "outputs": [],
   "source": [
    "strings = []\n",
    "for i, tpos in enumerate(product):\n",
    "    if i == 0:\n",
    "        strings.append(rf\"{tpos[0]} \\rightarrow {tpos[1]}. \\\\\")\n",
    "        strings.append(rf\"{tpos[1]} \\rightarrow {tpos[0]} \\rightarrow \")\n",
    "        continue\n",
    "    strings[-1] += rf\"{tpos[1]}. \\\\\" \n",
    "    strings.append(rf\"{tpos[1]} \\rightarrow {tpos[0]} \\rightarrow \")\n",
    "strings.append(\"\\ldots\")"
   ]
  },
  {
   "cell_type": "code",
   "execution_count": 282,
   "metadata": {},
   "outputs": [],
   "source": [
    "from IPython.display import display, Math, Latex"
   ]
  },
  {
   "cell_type": "code",
   "execution_count": 283,
   "metadata": {},
   "outputs": [
    {
     "output_type": "execute_result",
     "data": {
      "text/plain": "<IPython.core.display.Latex object>",
      "text/latex": "$$7 \\rightarrow 10. \\\\10 \\rightarrow 7 \\rightarrow 13. \\\\13 \\rightarrow 7 \\rightarrow 12. \\\\12 \\rightarrow 7 \\rightarrow \\ldots$$"
     },
     "metadata": {},
     "execution_count": 283
    }
   ],
   "source": [
    "expr = \"$$\" + \"\".join([s for s in strings]) + \"$$\"\n",
    "Latex(expr)"
   ]
  },
  {
   "cell_type": "code",
   "execution_count": 257,
   "metadata": {},
   "outputs": [
    {
     "output_type": "display_data",
     "data": {
      "text/plain": "<IPython.core.display.Markdown object>",
      "text/markdown": "\nexpr\n"
     },
     "metadata": {}
    }
   ],
   "source": []
  },
  {
   "cell_type": "code",
   "execution_count": 149,
   "metadata": {},
   "outputs": [],
   "source": [
    "def transpose(x,y,seq):\n",
    "    xi, yi = seq.index(x), seq.index(y)\n",
    "    seq[xi], seq[yi] =  seq[yi], seq[xi]\n",
    "\n",
    "test = [2, 4, 7, 6, 8]"
   ]
  },
  {
   "cell_type": "code",
   "execution_count": 157,
   "metadata": {},
   "outputs": [
    {
     "output_type": "stream",
     "name": "stdout",
     "text": "[7, 2, 4, 6, 8]\n[2, 4, 7, 6, 8]\n[7, 4, 6, 2, 8]\n[7, 4, 8, 6, 2]\n[7, 4, 2, 6, 8]\n"
    }
   ],
   "source": [
    "transpose(2, 4, test)\n",
    "print(test)\n",
    "transpose(4, 2, test)\n",
    "transpose(2, 7, test)\n",
    "print(test)\n",
    "transpose(7, 2, test)\n",
    "transpose(2, 6, test)\n",
    "print(test)\n",
    "transpose(6, 2, test)\n",
    "transpose(2, 8, test)\n",
    "print(test)\n",
    "transpose(8, 2, test)\n",
    "transpose(2, 2, test)\n",
    "print(test)"
   ]
  },
  {
   "cell_type": "code",
   "execution_count": null,
   "metadata": {},
   "outputs": [],
   "source": [
    "disjoint_cycles = {i: e for i, e in enumerate(disjoint_elems, start=min(disjoint_elems))}"
   ]
  }
 ],
 "metadata": {
  "language_info": {
   "codemirror_mode": {
    "name": "ipython",
    "version": 3
   },
   "file_extension": ".py",
   "mimetype": "text/x-python",
   "name": "python",
   "nbconvert_exporter": "python",
   "pygments_lexer": "ipython3",
   "version": "3.6.8-final"
  },
  "orig_nbformat": 2,
  "kernelspec": {
   "name": "python36864bitvenvscivenv55fc700d3ea9447888c06400e9b2b088",
   "display_name": "Python 3.6.8 64-bit ('venv-sci': venv)"
  }
 },
 "nbformat": 4,
 "nbformat_minor": 2
}